{
 "cells": [
  {
   "cell_type": "code",
   "execution_count": 1,
   "metadata": {},
   "outputs": [],
   "source": [
    "import pandas as pd\n",
    "\n",
    "# Carga del DataFrame\n",
    "netflix_df = pd.read_csv('./data/netflix_titles.csv')\n",
    "netflix_df.drop(columns=netflix_df.columns[12:], inplace=True)\n",
    "netflix_df['date_added'] = pd.to_datetime(netflix_df['date_added'], format='mixed')"
   ]
  },
  {
   "cell_type": "code",
   "execution_count": 2,
   "metadata": {},
   "outputs": [],
   "source": [
    "# Por ejemplo, un modelo de recomendación basado en contenido utilizando el género como característica\n",
    "from sklearn.feature_extraction.text import TfidfVectorizer\n",
    "from sklearn.metrics.pairwise import linear_kernel\n",
    "\n",
    "# Preprocesamiento de la columna 'listed_in' para el modelo de recomendación\n",
    "tfidf = TfidfVectorizer(stop_words='english')\n",
    "netflix_df['listed_in'] = netflix_df['listed_in'].fillna('')\n",
    "tfidf_matrix = tfidf.fit_transform(netflix_df['listed_in'])\n",
    "\n",
    "# Cálculo de similitud de coseno entre géneros\n",
    "cosine_sim = linear_kernel(tfidf_matrix, tfidf_matrix)\n"
   ]
  },
  {
   "cell_type": "code",
   "execution_count": 3,
   "metadata": {},
   "outputs": [
    {
     "name": "stdout",
     "output_type": "stream",
     "text": [
      "85      Pokémon Master Journeys: The Series\n",
      "590                     Sailor Moon Crystal\n",
      "1025                 Bakugan: Geogan Rising\n",
      "1051                                Sonic X\n",
      "1149                              Yu-Gi-Oh!\n",
      "1693                    Beyblade Burst Rise\n",
      "1723              Bakugan: Armored Alliance\n",
      "1724                 Bakugan: Battle Planet\n",
      "2136                             Zoids Wild\n",
      "2739                     Pokémon the Series\n",
      "Name: title, dtype: object\n"
     ]
    }
   ],
   "source": [
    "def get_recommendations(title, cosine_sim=cosine_sim):\n",
    "    # Obtiene el índice del título que coincide con el título\n",
    "    idx = netflix_df[netflix_df['title'] == title].index[0]\n",
    "\n",
    "    # Obtiene las puntuaciones de similitud de coseno del título dado\n",
    "    sim_scores = list(enumerate(cosine_sim[idx]))\n",
    "\n",
    "    # Ordena las películas según las puntuaciones de similitud\n",
    "    sim_scores = sorted(sim_scores, key=lambda x: x[1], reverse=True)\n",
    "\n",
    "    # Obtiene las 10 películas más similares\n",
    "    sim_scores = sim_scores[1:11]\n",
    "\n",
    "    # Obtiene los índices de las películas recomendadas\n",
    "    movie_indices = [i[0] for i in sim_scores]\n",
    "\n",
    "    # Devuelve los títulos de las películas recomendadas\n",
    "    return netflix_df['title'].iloc[movie_indices]\n",
    "\n",
    "# Ejemplo de recomendaciones para una película dada\n",
    "recommendations = get_recommendations(\"Pokémon Journeys: The Series\")\n",
    "print(recommendations)"
   ]
  }
 ],
 "metadata": {
  "kernelspec": {
   "display_name": "venv",
   "language": "python",
   "name": "python3"
  },
  "language_info": {
   "codemirror_mode": {
    "name": "ipython",
    "version": 3
   },
   "file_extension": ".py",
   "mimetype": "text/x-python",
   "name": "python",
   "nbconvert_exporter": "python",
   "pygments_lexer": "ipython3",
   "version": "3.12.3"
  }
 },
 "nbformat": 4,
 "nbformat_minor": 2
}
