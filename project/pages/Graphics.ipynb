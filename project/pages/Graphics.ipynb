{
 "cells": [
  {
   "cell_type": "code",
   "execution_count": 1,
   "metadata": {},
   "outputs": [],
   "source": [
    "import pandas as pd\n",
    "import matplotlib.pyplot as plt\n",
    "import matplotlib.colors as mcolors\n",
    "import numpy as np\n",
    "import streamlit as st\n",
    "import json\n",
    "from sklearn.metrics.pairwise import cosine_similarity\n",
    "from sklearn.preprocessing import MultiLabelBinarizer\n",
    "import requests    \n",
    "\n",
    "# Filter movies by year\n",
    "def filter_movies_by_year(data, year):\n",
    "    return data[data['release_date'].dt.year == year]\n",
    "\n",
    "# Get top 5 movies by vote average\n",
    "def get_top_movies_by_vote(data, year):\n",
    "    year_movies = filter_movies_by_year(data, year)\n",
    "    top_movies = year_movies.sort_values(by='vote_average', ascending=False).head(5)\n",
    "    return top_movies\n",
    "\n",
    "    # Function to extract the release year of a movie by its title\n",
    "def extract_release_year(data, movie_title):\n",
    "    # Filter the DataFrame for the given movie title\n",
    "    movie_row = data[data['original_title'] == movie_title]\n",
    "\n",
    "    # Check if the movie was found\n",
    "    if not movie_row.empty:\n",
    "        # Extract the release year from the 'release_date' column\n",
    "        release_year = movie_row['release_date'].dt.year.iloc[0]\n",
    "        return release_year\n",
    "    else:\n",
    "        return \"Movie not found\"\n",
    "\n",
    "def top_by_year(data, year):\n",
    "    top_movies = get_top_movies_by_vote(data, year)\n",
    "    plt.figure(figsize=(15, 8))  # Adjusted for better display of horizontal bars\n",
    "    plt.barh(top_movies['original_title'], top_movies['vote_average'], color='skyblue')\n",
    "    plt.ylabel('Movie Title')\n",
    "    plt.xlabel('Average Vote')\n",
    "    plt.title(f'Top 5 Movies of {year} by Average Vote')\n",
    "\n",
    "    # Setting y-axis scale to have a tick every 0.25 points\n",
    "    vote_min = top_movies['vote_average'].min() - 0.25  # slightly lower to add breathing room\n",
    "    vote_max = top_movies['vote_average'].max() + 0.25  # slightly higher to add breathing room\n",
    "    plt.xticks(ticks=np.arange(int(vote_min), int(vote_max) + 0.25, 0.25))  # adjust ticks on x-axis for clarity\n",
    "\n",
    "    st.pyplot(plt)\n",
    "\n",
    "    "
   ]
  }
 ],
 "metadata": {
  "kernelspec": {
   "display_name": "venv",
   "language": "python",
   "name": "python3"
  },
  "language_info": {
   "codemirror_mode": {
    "name": "ipython",
    "version": 3
   },
   "file_extension": ".py",
   "mimetype": "text/x-python",
   "name": "python",
   "nbconvert_exporter": "python",
   "pygments_lexer": "ipython3",
   "version": "3.11.5"
  }
 },
 "nbformat": 4,
 "nbformat_minor": 2
}
