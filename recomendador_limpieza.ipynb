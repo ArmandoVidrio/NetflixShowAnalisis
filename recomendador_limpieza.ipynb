{
 "cells": [
  {
   "cell_type": "code",
   "execution_count": 9,
   "metadata": {
    "metadata": {}
   },
   "outputs": [],
   "source": [
    "# importamos las librerias necesarias\n",
    "import pandas as pd\n",
    "import numpy as np\n",
    "\n",
    "# importamos los datos\n",
    "amazon = pd.read_csv('./data/amazon_prime_titles.csv')\n",
    "disney = pd.read_csv('./data/disney_plus_titles.csv')\n",
    "hulu = pd.read_csv('./data/hulu_titles.csv')\n",
    "netflix = pd.read_csv('./data/netflix_titles.csv')\n",
    "\n",
    "# eliminamos las columnas que no necesitamos para que los dataframes sean similares\n",
    "netflix.drop(columns=netflix.columns[12:], inplace=True)\n",
    "names = ['amazon', 'disney', 'hulu', 'netflix']\n",
    "dataframes = [amazon, disney, hulu, netflix]"
   ]
  },
  {
   "cell_type": "code",
   "execution_count": 10,
   "metadata": {
    "metadata": {}
   },
   "outputs": [],
   "source": [
    "# Eliminamos los valores nulos de las columnas que nos interesan\n",
    "for dataframe in dataframes:\n",
    "    dataframe.dropna(subset=['title', 'listed_in', 'description'], inplace=True)\n",
    "\n",
    "# Creamos una columna con los tags (palabras clave) de cada pelicula\n",
    "for dataframe in dataframes:\n",
    "    dataframe['tags'] = dataframe['description'] + ' ' + dataframe['listed_in']"
   ]
  },
  {
   "cell_type": "code",
   "execution_count": 11,
   "metadata": {
    "metadata": {}
   },
   "outputs": [],
   "source": [
    "from sklearn.feature_extraction.text import CountVectorizer\n",
    "cv = CountVectorizer(max_features=1000, stop_words='english')\n",
    "\n",
    "# Creamos una lista de vectores con las palabras clave de cada pelicula\n",
    "vectores = []\n",
    "for dataframe in dataframes:\n",
    "    vectores.append(cv.fit_transform(dataframe['tags'].values.astype('U')).toarray())\n"
   ]
  },
  {
   "cell_type": "code",
   "execution_count": 12,
   "metadata": {
    "metadata": {}
   },
   "outputs": [],
   "source": [
    "# Hallamos la similitud entre los vectores de cada pelicula\n",
    "from sklearn.metrics.pairwise import cosine_similarity\n",
    "similarities = [cosine_similarity(vectores[i]) for i in range(4)]"
   ]
  },
  {
   "cell_type": "code",
   "execution_count": 13,
   "metadata": {
    "metadata": {}
   },
   "outputs": [],
   "source": [
    "# Guardamos los resultados en archivos pickle para no tener que volver a correr el codigo\n",
    "# Antes se debe crear el directorio de saved \n",
    "\n",
    "import pickle\n",
    "for i in range(4):\n",
    "    with open(f'./saved/sim_{names[i]}.pkl', 'wb') as f:\n",
    "        pickle.dump(similarities[i], f)\n",
    "    \n",
    "    df = dataframes[i][['title', 'tags']]\n",
    "    with open(f'./saved/df_{names[i]}.pkl', 'wb') as f:\n",
    "        pickle.dump(df, f)"
   ]
  },
  {
   "cell_type": "code",
   "execution_count": 14,
   "metadata": {
    "metadata": {}
   },
   "outputs": [
    {
     "name": "stdout",
     "output_type": "stream",
     "text": [
      "Pokémon the Movie: Power of Us\n",
      "Pokémon: Mewtwo Strikes Back - Evolution\n",
      "Pick of the Litter\n",
      "Beethoven's 2nd\n",
      "Motu Patlu: Deep Sea Adventure\n"
     ]
    }
   ],
   "source": [
    "df = pickle.load(open('./saved/df_netflix.pkl', 'rb'))\n",
    "sim = pickle.load(open('./saved/sim_netflix.pkl', 'rb'))\n",
    "\n",
    "def recommend(movies):\n",
    "    index = df[df['title'] == movies].index[0]\n",
    "    distance = sorted(list(enumerate(sim[index])), reverse=True, key=lambda x: x[1])\n",
    "    for i in distance[1:6]:\n",
    "        print(df.iloc[i[0]].title)\n",
    "\n",
    "\n",
    "recommend('Pokémon the Movie: I Choose You!')"
   ]
  }
 ],
 "metadata": {
  "kernelspec": {
   "display_name": "venv",
   "language": "python",
   "name": "python3"
  },
  "language_info": {
   "codemirror_mode": {
    "name": "ipython",
    "version": 3
   },
   "file_extension": ".py",
   "mimetype": "text/x-python",
   "name": "python",
   "nbconvert_exporter": "python",
   "pygments_lexer": "ipython3",
   "version": "3.11.9"
  }
 },
 "nbformat": 4,
 "nbformat_minor": 2
}
